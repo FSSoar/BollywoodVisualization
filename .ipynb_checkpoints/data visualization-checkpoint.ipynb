{
 "cells": [
  {
   "cell_type": "code",
   "execution_count": 1,
   "metadata": {},
   "outputs": [],
   "source": [
    "import pandas as pd\n",
    "import matplotlib.pyplot as plt"
   ]
  },
  {
   "cell_type": "code",
   "execution_count": 2,
   "metadata": {},
   "outputs": [],
   "source": [
    "data = pd.read_csv('bollywood_kaggle.csv')"
   ]
  },
  {
   "cell_type": "code",
   "execution_count": 3,
   "metadata": {},
   "outputs": [],
   "source": [
    "# drop unneeded columns\n",
    "data = data.drop('Genre', axis=1)\n",
    "# data = data.drop('Title', axis=1)"
   ]
  },
  {
   "cell_type": "code",
   "execution_count": 4,
   "metadata": {},
   "outputs": [],
   "source": [
    "# create new column with the directors and cast combined, properly formatted\n",
    "data['Director'] = data['Director'].str.replace(' ',',')\n",
    "data['People'] = data['Director'] + \",\" + data[\"Cast\"]\n",
    "data['People'] = data['People'].str.replace('(','')\n",
    "data['People'] = data['People'].str.replace(')','')\n",
    "data['People'] = data['People'].str.lower()"
   ]
  },
  {
   "cell_type": "code",
   "execution_count": 5,
   "metadata": {},
   "outputs": [],
   "source": [
    "# drop unneeded columns\n",
    "data = data.drop('Cast', axis=1)\n",
    "data = data.drop('Director', axis=1)"
   ]
  },
  {
   "cell_type": "code",
   "execution_count": 6,
   "metadata": {},
   "outputs": [],
   "source": [
    "# create new dataframe \n",
    "unsplit = pd.DataFrame.copy(data, deep=True)\n",
    "unsplit['People'] = unsplit['People'].str.replace(',',' ')"
   ]
  },
  {
   "cell_type": "code",
   "execution_count": 7,
   "metadata": {},
   "outputs": [],
   "source": [
    "# split People column by comma\n",
    "data = data.join(data.People.str.split(',', expand=True))\n",
    "data = data.drop('People', axis=1)"
   ]
  },
  {
   "cell_type": "code",
   "execution_count": 8,
   "metadata": {},
   "outputs": [],
   "source": [
    "data = data.iloc[::-1]"
   ]
  },
  {
   "cell_type": "code",
   "execution_count": null,
   "metadata": {},
   "outputs": [],
   "source": [
    "# search for amitabh bachchan\n",
    "input_names = input(\"Enter the actors you want visualized, separated by a comma.\")\n",
    "input_names = input_names.lower().replace(', ', \" \")\n",
    "names = input_names.split()\n",
    "\n",
    "filtered = unsplit\n",
    "filtered\n",
    "for name in names:\n",
    "    has_name = filtered['People'].str.contains(name)\n",
    "    filtered = filtered[has_name]\n",
    "\n",
    "plt.figure(figsize=(15,5))\n",
    "\n",
    "# create year range\n",
    "years = pd.Series(range(1920,2018))\n",
    "\n",
    "# get frequency counts and map to years\n",
    "frequency = filtered['Year'].value_counts()\n",
    "frequency = frequency.reindex(years, fill_value=0)\n",
    "\n",
    "# create graph\n",
    "ax = frequency.plot(kind='line', x='Year', y='Appearances')\n",
    "ax.set_xlabel(\"Year\")\n",
    "ax.set_ylabel(\"Appearances\")"
   ]
  },
  {
   "cell_type": "code",
   "execution_count": null,
   "metadata": {},
   "outputs": [],
   "source": []
  }
 ],
 "metadata": {
  "kernelspec": {
   "display_name": "Python 3",
   "language": "python",
   "name": "python3"
  },
  "language_info": {
   "codemirror_mode": {
    "name": "ipython",
    "version": 3
   },
   "file_extension": ".py",
   "mimetype": "text/x-python",
   "name": "python",
   "nbconvert_exporter": "python",
   "pygments_lexer": "ipython3",
   "version": "3.7.3"
  }
 },
 "nbformat": 4,
 "nbformat_minor": 2
}
