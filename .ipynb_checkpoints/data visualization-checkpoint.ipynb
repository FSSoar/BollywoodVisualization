{
 "cells": [
  {
   "cell_type": "code",
   "execution_count": 1,
   "metadata": {},
   "outputs": [],
   "source": [
    "import pandas as pd\n",
    "import matplotlib.pyplot as plt"
   ]
  },
  {
   "cell_type": "code",
   "execution_count": 2,
   "metadata": {},
   "outputs": [],
   "source": [
    "data = pd.read_csv('bollywood_kaggle.csv')"
   ]
  },
  {
   "cell_type": "code",
   "execution_count": 3,
   "metadata": {},
   "outputs": [],
   "source": [
    "# drop unneeded columns\n",
    "data = data.drop('Genre', axis=1)\n",
    "# data = data.drop('Title', axis=1)"
   ]
  },
  {
   "cell_type": "code",
   "execution_count": 4,
   "metadata": {},
   "outputs": [],
   "source": [
    "# create new column with the directors and cast combined, properly formatted\n",
    "data['Director'] = data['Director'].str.replace(' ',',')\n",
    "data['People'] = data['Director'] + \",\" + data[\"Cast\"]\n",
    "data['People'] = data['People'].str.replace('(','')\n",
    "data['People'] = data['People'].str.replace(')','')\n",
    "data['People'] = data['People'].str.lower()"
   ]
  },
  {
   "cell_type": "code",
   "execution_count": 5,
   "metadata": {},
   "outputs": [],
   "source": [
    "# drop unneeded columns\n",
    "data = data.drop('Cast', axis=1)\n",
    "data = data.drop('Director', axis=1)"
   ]
  },
  {
   "cell_type": "code",
   "execution_count": 6,
   "metadata": {},
   "outputs": [],
   "source": [
    "# create new dataframe \n",
    "unsplit = pd.DataFrame.copy(data, deep=True)\n",
    "unsplit['People'] = unsplit['People'].str.replace(',',' ')"
   ]
  },
  {
   "cell_type": "code",
   "execution_count": 7,
   "metadata": {},
   "outputs": [],
   "source": [
    "# split People column by comma\n",
    "data = data.join(data.People.str.split(',', expand=True))\n",
    "data = data.drop('People', axis=1)"
   ]
  },
  {
   "cell_type": "code",
   "execution_count": 8,
   "metadata": {},
   "outputs": [],
   "source": [
    "data = data.iloc[::-1]"
   ]
  },
  {
   "cell_type": "code",
   "execution_count": 9,
   "metadata": {},
   "outputs": [],
   "source": [
    "# search for amitabh bachchan\n",
    "has_amitabh = unsplit['People'].str.contains('kajol')\n",
    "has_bachchan = unsplit['People'].str.contains('')\n",
    "has_amitabh1 = unsplit['People'].str.contains('shah')\n",
    "has_bachchan2 = unsplit['People'].str.contains('rukh')\n",
    "has_bachchan3 = unsplit['People'].str.contains('khan')\n",
    "filtered = unsplit[has_amitabh & has_bachchan & has_amitabh1 & has_bachchan2 & has_bachchan3]"
   ]
  },
  {
   "cell_type": "code",
   "execution_count": 10,
   "metadata": {},
   "outputs": [
    {
     "data": {
      "text/html": [
       "<div>\n",
       "<style scoped>\n",
       "    .dataframe tbody tr th:only-of-type {\n",
       "        vertical-align: middle;\n",
       "    }\n",
       "\n",
       "    .dataframe tbody tr th {\n",
       "        vertical-align: top;\n",
       "    }\n",
       "\n",
       "    .dataframe thead th {\n",
       "        text-align: right;\n",
       "    }\n",
       "</style>\n",
       "<table border=\"1\" class=\"dataframe\">\n",
       "  <thead>\n",
       "    <tr style=\"text-align: right;\">\n",
       "      <th></th>\n",
       "      <th>Year</th>\n",
       "      <th>Title</th>\n",
       "      <th>People</th>\n",
       "    </tr>\n",
       "  </thead>\n",
       "  <tbody>\n",
       "    <tr>\n",
       "      <th>6869</th>\n",
       "      <td>1993</td>\n",
       "      <td>Baazigar</td>\n",
       "      <td>abbas-mustan rukh khan shah kajol shilpa shetty</td>\n",
       "    </tr>\n",
       "    <tr>\n",
       "      <th>7091</th>\n",
       "      <td>1995</td>\n",
       "      <td>Dilwale Dulhania Le Jayenge</td>\n",
       "      <td>aditya chopra khan amrish kajol jalal farida p...</td>\n",
       "    </tr>\n",
       "    <tr>\n",
       "      <th>7111</th>\n",
       "      <td>1995</td>\n",
       "      <td>Karan Arjun</td>\n",
       "      <td>rakesh roshan khan rukh shah kajol raakhee amr...</td>\n",
       "    </tr>\n",
       "    <tr>\n",
       "      <th>7382</th>\n",
       "      <td>1998</td>\n",
       "      <td>Kuch Kuch Hota Hai</td>\n",
       "      <td>karan johar khan mukerji kajol rani salman sha...</td>\n",
       "    </tr>\n",
       "    <tr>\n",
       "      <th>7638</th>\n",
       "      <td>2001</td>\n",
       "      <td>Kabhi Khushi Kabhie Gham...</td>\n",
       "      <td>karan johar kapoor khan jaya kajol bachchan hr...</td>\n",
       "    </tr>\n",
       "    <tr>\n",
       "      <th>8551</th>\n",
       "      <td>2010</td>\n",
       "      <td>My Name Is Khan</td>\n",
       "      <td>karan johar khan sheirgill kajol jimmy shahrukh</td>\n",
       "    </tr>\n",
       "    <tr>\n",
       "      <th>9238</th>\n",
       "      <td>2015</td>\n",
       "      <td>Dilwale</td>\n",
       "      <td>rohit shetty rukh khan shah kajol dhawan sanon...</td>\n",
       "    </tr>\n",
       "  </tbody>\n",
       "</table>\n",
       "</div>"
      ],
      "text/plain": [
       "      Year                        Title  \\\n",
       "6869  1993                     Baazigar   \n",
       "7091  1995  Dilwale Dulhania Le Jayenge   \n",
       "7111  1995                  Karan Arjun   \n",
       "7382  1998           Kuch Kuch Hota Hai   \n",
       "7638  2001  Kabhi Khushi Kabhie Gham...   \n",
       "8551  2010              My Name Is Khan   \n",
       "9238  2015                      Dilwale   \n",
       "\n",
       "                                                 People  \n",
       "6869    abbas-mustan rukh khan shah kajol shilpa shetty  \n",
       "7091  aditya chopra khan amrish kajol jalal farida p...  \n",
       "7111  rakesh roshan khan rukh shah kajol raakhee amr...  \n",
       "7382  karan johar khan mukerji kajol rani salman sha...  \n",
       "7638  karan johar kapoor khan jaya kajol bachchan hr...  \n",
       "8551    karan johar khan sheirgill kajol jimmy shahrukh  \n",
       "9238  rohit shetty rukh khan shah kajol dhawan sanon...  "
      ]
     },
     "execution_count": 10,
     "metadata": {},
     "output_type": "execute_result"
    }
   ],
   "source": [
    "filtered"
   ]
  },
  {
   "cell_type": "code",
   "execution_count": 11,
   "metadata": {},
   "outputs": [
    {
     "data": {
      "text/plain": [
       "Text(0, 0.5, 'Amitabh Bachchan Appearances')"
      ]
     },
     "execution_count": 11,
     "metadata": {},
     "output_type": "execute_result"
    },
    {
     "data": {
      "image/png": "[encoded data removed]",
      "text/plain": [
       "<Figure size 1080x360 with 1 Axes>"
      ]
     },
     "metadata": {
      "needs_background": "light"
     },
     "output_type": "display_data"
    }
   ],
   "source": [
    "plt.figure(figsize=(15,5))\n",
    "\n",
    "# create year range\n",
    "years = pd.Series(range(1920,2018))\n",
    "\n",
    "# get frequency counts and map to years\n",
    "frequency = filtered['Year'].value_counts()\n",
    "frequency = frequency.reindex(years, fill_value=0)\n",
    "\n",
    "# create graph\n",
    "frequency.sort_index(axis=0, level=None, ascending=True, inplace=True, sort_remaining=True)\n",
    "ax = frequency.plot(kind='line', x='Year', y='Appearances')\n",
    "ax.set_xlabel(\"Year\")\n",
    "ax.set_ylabel(\"Amitabh Bachchan Appearances\")"
   ]
  },
  {
   "cell_type": "code",
   "execution_count": null,
   "metadata": {},
   "outputs": [],
   "source": []
  }
 ],
 "metadata": {
  "kernelspec": {
   "display_name": "Python 3",
   "language": "python",
   "name": "python3"
  },
  "language_info": {
   "codemirror_mode": {
    "name": "ipython",
    "version": 3
   },
   "file_extension": ".py",
   "mimetype": "text/x-python",
   "name": "python",
   "nbconvert_exporter": "python",
   "pygments_lexer": "ipython3",
   "version": "3.7.3"
  }
 },
 "nbformat": 4,
 "nbformat_minor": 2
}
